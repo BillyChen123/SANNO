{
 "cells": [
  {
   "cell_type": "code",
   "execution_count": 1,
   "metadata": {},
   "outputs": [],
   "source": [
    "import warnings\n",
    "warnings.filterwarnings(\"ignore\")\n",
    "import scanpy as sc\n",
    "import pandas as pd\n",
    "import numpy as np"
   ]
  },
  {
   "cell_type": "code",
   "execution_count": 2,
   "metadata": {},
   "outputs": [],
   "source": [
    "train_df = pd.read_csv(\"../datasets/Tonsil_BE_cross/raw/train.csv\")\n",
    "test_df = pd.read_csv(\"../datasets/Tonsil_BE_cross/raw/test.csv\")"
   ]
  },
  {
   "cell_type": "code",
   "execution_count": 3,
   "metadata": {},
   "outputs": [],
   "source": [
    "train_X = train_df.iloc[:, 1:-4].values\n",
    "test_X = test_df.iloc[:, 1:-4].values\n",
    "train_y = train_df['cell_type'].str.lower()\n",
    "test_y = test_df['cell_type'].str.lower()\n",
    "\n",
    "labeled_pos = train_df.iloc[:, -4:-2].values\n",
    "unlabeled_pos = test_df.iloc[:, -4:-2].values\n",
    "\n",
    "\n",
    "var_names = train_df.iloc[:, 1:-4].columns.tolist()"
   ]
  },
  {
   "cell_type": "code",
   "execution_count": 4,
   "metadata": {},
   "outputs": [],
   "source": [
    "train_adata = sc.AnnData(X=train_X)\n",
    "train_adata.var_names = var_names\n",
    "train_adata.obs['cell_type'] = train_y.values\n",
    "train_adata.obsm['pos'] = labeled_pos\n",
    "\n",
    "test_adata = sc.AnnData(X=test_X)\n",
    "test_adata.var_names = var_names\n",
    "test_adata.obs['cell_type'] = test_y.values\n",
    "test_adata.obsm['pos'] = unlabeled_pos"
   ]
  },
  {
   "cell_type": "code",
   "execution_count": 5,
   "metadata": {},
   "outputs": [],
   "source": [
    "train_adata.write('../datasets/Tonsil_BE_cross/process/train_adata.h5ad')\n",
    "test_adata.write('../datasets/Tonsil_BE_cross/process/test_adata.h5ad')"
   ]
  },
  {
   "cell_type": "code",
   "execution_count": 6,
   "metadata": {},
   "outputs": [
    {
     "name": "stdout",
     "output_type": "stream",
     "text": [
      "[easydl] tensorflow not available!\n",
      "Use Spatially Resolved Single-Cell Data to annote Spatially Resolved scdata\n",
      "common: ['endothelial' 'innate' 'nerve' 'pdpn' 'plasma' 'squamous_epithelial'\n",
      " 'stroma' 't']\n",
      "train private: ['b']\n",
      "test_private: ['glandular_epi' 'paneth' 'secretory_epithelial' 'smoothmuscle']\n",
      "st_dataset done!\n",
      "sampler done!\n",
      "dataloader done!\n",
      "memory queue done!\n",
      "preprocess graph done!\n",
      "Load Data Done!\n",
      "feature_extractor :  GTransXY(\n",
      "  (GTF): GraphTransformer(\n",
      "    (fc1): Linear(in_features=512, out_features=512, bias=True)\n",
      "    (convs): ModuleList(\n",
      "      (0): GraphTransformerConv(\n",
      "        (Wk): Linear(in_features=512, out_features=2048, bias=True)\n",
      "        (Wq): Linear(in_features=512, out_features=2048, bias=True)\n",
      "        (Wv): Linear(in_features=512, out_features=2048, bias=True)\n",
      "        (Wo): Linear(in_features=2048, out_features=512, bias=True)\n",
      "      )\n",
      "    )\n",
      "    (fcs): ModuleList(\n",
      "      (0): Linear(in_features=44, out_features=512, bias=True)\n",
      "      (1): Linear(in_features=512, out_features=32, bias=True)\n",
      "    )\n",
      "    (bns): ModuleList(\n",
      "      (0): LayerNorm((512,), eps=1e-05, elementwise_affine=True)\n",
      "      (1): LayerNorm((512,), eps=1e-05, elementwise_affine=True)\n",
      "    )\n",
      "  )\n",
      "  (GTF2): GraphTransformer(\n",
      "    (fc1): Linear(in_features=512, out_features=512, bias=True)\n",
      "    (convs): ModuleList(\n",
      "      (0): GraphTransformerConv(\n",
      "        (Wk): Linear(in_features=512, out_features=2048, bias=True)\n",
      "        (Wq): Linear(in_features=512, out_features=2048, bias=True)\n",
      "        (Wv): Linear(in_features=512, out_features=2048, bias=True)\n",
      "        (Wo): Linear(in_features=2048, out_features=512, bias=True)\n",
      "      )\n",
      "      (1): GraphTransformerConv(\n",
      "        (Wk): Linear(in_features=512, out_features=2048, bias=True)\n",
      "        (Wq): Linear(in_features=512, out_features=2048, bias=True)\n",
      "        (Wv): Linear(in_features=512, out_features=2048, bias=True)\n",
      "        (Wo): Linear(in_features=2048, out_features=512, bias=True)\n",
      "      )\n",
      "      (2): GraphTransformerConv(\n",
      "        (Wk): Linear(in_features=512, out_features=2048, bias=True)\n",
      "        (Wq): Linear(in_features=512, out_features=2048, bias=True)\n",
      "        (Wv): Linear(in_features=512, out_features=2048, bias=True)\n",
      "        (Wo): Linear(in_features=2048, out_features=512, bias=True)\n",
      "      )\n",
      "    )\n",
      "    (fcs): ModuleList(\n",
      "      (0): Linear(in_features=44, out_features=512, bias=True)\n",
      "      (1): Linear(in_features=512, out_features=32, bias=True)\n",
      "    )\n",
      "    (bns): ModuleList(\n",
      "      (0): LayerNorm((512,), eps=1e-05, elementwise_affine=True)\n",
      "      (1): LayerNorm((512,), eps=1e-05, elementwise_affine=True)\n",
      "      (2): LayerNorm((512,), eps=1e-05, elementwise_affine=True)\n",
      "      (3): LayerNorm((512,), eps=1e-05, elementwise_affine=True)\n",
      "    )\n",
      "  )\n",
      ")\n",
      "global step:   2%|▌                          | 105/5000 [00:23<13:38,  5.98it/s]Traceback (most recent call last):\n",
      "  File \"../SANNO/main_xy_adj.py\", line 327, in <module>\n",
      "    main()\n",
      "  File \"../SANNO/main_xy_adj.py\", line 151, in main\n",
      "    feature_ex_t,loss_ft = feature_extractor.forward(im_target, t_sp_adjs_i)\n",
      "  File \"/data/chenyz/project/STOT/SANNO/SANNO/model.py\", line 134, in forward\n",
      "    res2,loss2 = self.GTF2(x,adj_sp)\n",
      "  File \"/data/chenyz/anaconda3/envs/SANNO/lib/python3.7/site-packages/torch/nn/modules/module.py\", line 1194, in _call_impl\n",
      "    return forward_call(*input, **kwargs)\n",
      "  File \"/data/chenyz/project/STOT/SANNO/SANNO/graphTransformer.py\", line 470, in forward\n",
      "    z, link_loss = conv(z, adjs, tau)\n",
      "  File \"/data/chenyz/anaconda3/envs/SANNO/lib/python3.7/site-packages/torch/nn/modules/module.py\", line 1194, in _call_impl\n",
      "    return forward_call(*input, **kwargs)\n",
      "  File \"/data/chenyz/project/STOT/SANNO/SANNO/graphTransformer.py\", line 340, in forward\n",
      "    self.nb_random_features, dim, seed=seed).to(query.device)\n",
      "  File \"/data/chenyz/project/STOT/SANNO/SANNO/graphTransformer.py\", line 34, in create_projection_matrix\n",
      "    q, _ = torch.qr(unstructured_block)\n",
      "KeyboardInterrupt\n",
      "^C\n",
      "Error in atexit._run_exitfuncs:\n",
      "Traceback (most recent call last):\n",
      "  File \"/data/chenyz/anaconda3/envs/SANNO/lib/python3.7/multiprocessing/popen_fork.py\", line 28, in poll\n",
      "    pid, sts = os.waitpid(self.pid, flag)\n",
      "KeyboardInterrupt\n",
      "\n"
     ]
    }
   ],
   "source": [
    "!python ../SANNO/main_xy_adj.py  --gpu_index 3 --name test \\\n",
    "                        --type st2st --dataset Tonsil_BE_cross \\\n",
    "                        --train_dataset ../datasets/Tonsil_BE_cross/process/train_adata.h5ad \\\n",
    "                        --test_dataset ../datasets/Tonsil_BE_cross/process/test_adata.h5ad \\\n",
    "                        --log log \\\n",
    "                        --K 50 --MQ_size 5000 --gamma 0.4"
   ]
  }
 ],
 "metadata": {
  "kernelspec": {
   "display_name": "SANNO",
   "language": "python",
   "name": "python3"
  },
  "language_info": {
   "codemirror_mode": {
    "name": "ipython",
    "version": 3
   },
   "file_extension": ".py",
   "mimetype": "text/x-python",
   "name": "python",
   "nbconvert_exporter": "python",
   "pygments_lexer": "ipython3",
   "version": "3.7.16"
  }
 },
 "nbformat": 4,
 "nbformat_minor": 2
}
