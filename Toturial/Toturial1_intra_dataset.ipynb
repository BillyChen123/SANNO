{
 "cells": [
  {
   "cell_type": "code",
   "execution_count": 1,
   "metadata": {},
   "outputs": [],
   "source": [
    "import warnings\n",
    "warnings.filterwarnings(\"ignore\")\n",
    "import scanpy as sc\n",
    "import pandas as pd\n",
    "import numpy as np"
   ]
  },
  {
   "cell_type": "code",
   "execution_count": 2,
   "metadata": {},
   "outputs": [],
   "source": [
    "train_df = pd.read_csv(\"../datasets/Hubmap_CL_intra/raw/train.csv\")\n",
    "test_df = pd.read_csv(\"../datasets/Hubmap_CL_intra/raw/test.csv\")"
   ]
  },
  {
   "cell_type": "code",
   "execution_count": 3,
   "metadata": {},
   "outputs": [],
   "source": [
    "train_X = train_df.iloc[:, 1:49].values\n",
    "test_X = test_df.iloc[:, 1:49].values\n",
    "train_y = train_df['cell_type_A']\n",
    "test_y = test_df['cell_type_A']\n",
    "labeled_pos = train_df.iloc[:, -6:-4].values # x,y coordinates, indexes depend on specific datasets\n",
    "unlabeled_pos = test_df.iloc[:, -6:-4].values\n",
    "\n",
    "var_names = train_df.iloc[:, 1:49].columns.tolist()"
   ]
  },
  {
   "cell_type": "code",
   "execution_count": 4,
   "metadata": {},
   "outputs": [],
   "source": [
    "train_adata = sc.AnnData(X=train_X)\n",
    "train_adata.var_names = var_names\n",
    "train_adata.obs['cell_type'] = train_y.values\n",
    "train_adata.obsm['pos'] = labeled_pos\n",
    "\n",
    "test_adata = sc.AnnData(X=test_X)\n",
    "test_adata.var_names = var_names\n",
    "test_adata.obs['cell_type'] = test_y.values\n",
    "test_adata.obsm['pos'] = unlabeled_pos"
   ]
  },
  {
   "cell_type": "code",
   "execution_count": 5,
   "metadata": {},
   "outputs": [],
   "source": [
    "train_adata.write('../datasets/Hubmap_CL_intra/process/train_adata.h5ad')\n",
    "test_adata.write('../datasets/Hubmap_CL_intra/process/test_adata.h5ad')"
   ]
  },
  {
   "cell_type": "code",
   "execution_count": 8,
   "metadata": {},
   "outputs": [
    {
     "name": "stdout",
     "output_type": "stream",
     "text": [
      "[easydl] tensorflow not available!\n",
      "Use Spatially Resolved Single-Cell Data to annote Spatially Resolved scdata\n",
      "common: ['CD4T' 'CD8T' 'DC' 'Endothelial' 'Goblet' 'ICC' 'Lymphatic' 'Macrophage'\n",
      " 'Nerve' 'Neuroendocrine' 'Plasma' 'Stroma' 'TA']\n",
      "train private: ['B' 'CD7_Immune']\n",
      "test_private: ['Enterocyte' 'Enterocyte_ITLN1p' 'SmoothMuscle']\n",
      "st_dataset done!\n",
      "sampler done!\n",
      "dataloader done!\n",
      "memory queue done!\n",
      "preprocess graph done!\n",
      "Load Data Done!\n",
      "feature_extractor :  GTransXY(\n",
      "  (GTF): GraphTransformer(\n",
      "    (fc1): Linear(in_features=512, out_features=512, bias=True)\n",
      "    (convs): ModuleList(\n",
      "      (0): GraphTransformerConv(\n",
      "        (Wk): Linear(in_features=512, out_features=2048, bias=True)\n",
      "        (Wq): Linear(in_features=512, out_features=2048, bias=True)\n",
      "        (Wv): Linear(in_features=512, out_features=2048, bias=True)\n",
      "        (Wo): Linear(in_features=2048, out_features=512, bias=True)\n",
      "      )\n",
      "    )\n",
      "    (fcs): ModuleList(\n",
      "      (0): Linear(in_features=48, out_features=512, bias=True)\n",
      "      (1): Linear(in_features=512, out_features=32, bias=True)\n",
      "    )\n",
      "    (bns): ModuleList(\n",
      "      (0): LayerNorm((512,), eps=1e-05, elementwise_affine=True)\n",
      "      (1): LayerNorm((512,), eps=1e-05, elementwise_affine=True)\n",
      "    )\n",
      "  )\n",
      "  (GTF2): GraphTransformer(\n",
      "    (fc1): Linear(in_features=512, out_features=512, bias=True)\n",
      "    (convs): ModuleList(\n",
      "      (0): GraphTransformerConv(\n",
      "        (Wk): Linear(in_features=512, out_features=2048, bias=True)\n",
      "        (Wq): Linear(in_features=512, out_features=2048, bias=True)\n",
      "        (Wv): Linear(in_features=512, out_features=2048, bias=True)\n",
      "        (Wo): Linear(in_features=2048, out_features=512, bias=True)\n",
      "      )\n",
      "      (1): GraphTransformerConv(\n",
      "        (Wk): Linear(in_features=512, out_features=2048, bias=True)\n",
      "        (Wq): Linear(in_features=512, out_features=2048, bias=True)\n",
      "        (Wv): Linear(in_features=512, out_features=2048, bias=True)\n",
      "        (Wo): Linear(in_features=2048, out_features=512, bias=True)\n",
      "      )\n",
      "      (2): GraphTransformerConv(\n",
      "        (Wk): Linear(in_features=512, out_features=2048, bias=True)\n",
      "        (Wq): Linear(in_features=512, out_features=2048, bias=True)\n",
      "        (Wv): Linear(in_features=512, out_features=2048, bias=True)\n",
      "        (Wo): Linear(in_features=2048, out_features=512, bias=True)\n",
      "      )\n",
      "    )\n",
      "    (fcs): ModuleList(\n",
      "      (0): Linear(in_features=48, out_features=512, bias=True)\n",
      "      (1): Linear(in_features=512, out_features=32, bias=True)\n",
      "    )\n",
      "    (bns): ModuleList(\n",
      "      (0): LayerNorm((512,), eps=1e-05, elementwise_affine=True)\n",
      "      (1): LayerNorm((512,), eps=1e-05, elementwise_affine=True)\n",
      "      (2): LayerNorm((512,), eps=1e-05, elementwise_affine=True)\n",
      "      (3): LayerNorm((512,), eps=1e-05, elementwise_affine=True)\n",
      "    )\n",
      "  )\n",
      ")\n",
      "global step:  15%|███▉                       | 728/5000 [02:15<15:54,  4.48it/s]Traceback (most recent call last):\n",
      "  File \"../SANNO/main_xy_adj.py\", line 327, in <module>\n",
      "    main()\n",
      "  File \"../SANNO/main_xy_adj.py\", line 204, in main\n",
      "    sub_loss_local += -torch.sum(neighbor_Q[i,:] * F.log_softmax(after_cluhead_t[i,:]))\n",
      "KeyboardInterrupt\n",
      "^C\n",
      "Error in atexit._run_exitfuncs:\n",
      "Traceback (most recent call last):\n",
      "  File \"/data/chenyz/anaconda3/envs/SANNO/lib/python3.7/multiprocessing/popen_fork.py\", line 28, in poll\n",
      "    pid, sts = os.waitpid(self.pid, flag)\n",
      "KeyboardInterrupt\n",
      "\n"
     ]
    }
   ],
   "source": [
    "!python ../SANNO/main_xy_adj.py  --gpu_index 3 --name test \\\n",
    "                        --type st2st --dataset Hubmap_CL_intra \\\n",
    "                        --train_dataset ../datasets/Hubmap_CL_intra/process/train_adata.h5ad \\\n",
    "                        --test_dataset ../datasets/Hubmap_CL_intra/process/test_adata.h5ad \\\n",
    "                        --log log \\\n",
    "                        --K 50 --MQ_size 5000 --gamma 0.4"
   ]
  }
 ],
 "metadata": {
  "kernelspec": {
   "display_name": "SANNO",
   "language": "python",
   "name": "python3"
  },
  "language_info": {
   "codemirror_mode": {
    "name": "ipython",
    "version": 3
   },
   "file_extension": ".py",
   "mimetype": "text/x-python",
   "name": "python",
   "nbconvert_exporter": "python",
   "pygments_lexer": "ipython3",
   "version": "3.7.16"
  }
 },
 "nbformat": 4,
 "nbformat_minor": 2
}
